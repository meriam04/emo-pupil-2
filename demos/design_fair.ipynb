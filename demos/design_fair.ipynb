{
 "cells": [
  {
   "cell_type": "markdown",
   "metadata": {},
   "source": [
    "# Design Fair Demo"
   ]
  },
  {
   "cell_type": "code",
   "execution_count": 7,
   "metadata": {
    "vscode": {
     "languageId": "bat"
    }
   },
   "outputs": [
    {
     "name": "stderr",
     "output_type": "stream",
     "text": [
      "Traceback (most recent call last):\n",
      "  File \"c:\\Users\\meria\\source\\repos\\emotion-watchers\\data_processing\\data_processing\\process_data.py\", line 72, in <module>\n",
      "    process_data(\n",
      "  File \"c:\\Users\\meria\\source\\repos\\emotion-watchers\\data_processing\\data_processing\\process_data.py\", line 21, in process_data\n",
      "    face.process_data(video_dir, output_path, binary_face, skip_get_frames, skip_crop_images, log)\n",
      "  File \"c:\\users\\meria\\source\\repos\\emotion-watchers\\data_processing\\data_processing\\face\\process_data.py\", line 220, in process_data\n",
      "    separate_images(image_dirs, output_path, binary)\n",
      "  File \"c:\\users\\meria\\source\\repos\\emotion-watchers\\data_processing\\data_processing\\face\\process_data.py\", line 98, in separate_images\n",
      "    matched_emotion = emotions[match[\"emotion\"]]\n",
      "KeyError: 'Pro'\n"
     ]
    }
   ],
   "source": [
    "!python ..\\data_processing\\data_processing\\process_data.py \"C:\\Users\\meria\\Pictures\\Camera Roll\" ..\\data C:\\Users\\meria\\Documents\\GazePoint\\result"
   ]
  }
 ],
 "metadata": {
  "kernelspec": {
   "display_name": "Python 3",
   "language": "python",
   "name": "python3"
  },
  "language_info": {
   "codemirror_mode": {
    "name": "ipython",
    "version": 3
   },
   "file_extension": ".py",
   "mimetype": "text/x-python",
   "name": "python",
   "nbconvert_exporter": "python",
   "pygments_lexer": "ipython3",
   "version": "3.10.0"
  }
 },
 "nbformat": 4,
 "nbformat_minor": 2
}
