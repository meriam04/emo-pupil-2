{
 "cells": [
  {
   "cell_type": "markdown",
   "metadata": {},
   "source": [
    "# Design Fair Demo"
   ]
  },
  {
   "cell_type": "code",
   "execution_count": 9,
   "metadata": {},
   "outputs": [
    {
     "ename": "FileExistsError",
     "evalue": "[WinError 183] Cannot create a file when that file already exists: 'C:\\\\Users\\\\meria\\\\Pictures\\\\Camera Roll\\\\mf_happy_1.mp4' -> 'C:\\\\Users\\\\meria\\\\Pictures\\\\Camera Roll\\\\mf_happy.mp4'",
     "output_type": "error",
     "traceback": [
      "\u001b[1;31m---------------------------------------------------------------------------\u001b[0m",
      "\u001b[1;31mFileExistsError\u001b[0m                           Traceback (most recent call last)",
      "Cell \u001b[1;32mIn[9], line 11\u001b[0m\n\u001b[0;32m      8\u001b[0m video_files \u001b[38;5;241m=\u001b[39m [f \u001b[38;5;28;01mfor\u001b[39;00m f \u001b[38;5;129;01min\u001b[39;00m os\u001b[38;5;241m.\u001b[39mlistdir(path) \u001b[38;5;28;01mif\u001b[39;00m f\u001b[38;5;241m.\u001b[39mendswith(\u001b[38;5;124m'\u001b[39m\u001b[38;5;124m.mp4\u001b[39m\u001b[38;5;124m'\u001b[39m)]\n\u001b[0;32m     10\u001b[0m \u001b[38;5;28;01mfor\u001b[39;00m _, file \u001b[38;5;129;01min\u001b[39;00m \u001b[38;5;28menumerate\u001b[39m(video_files):\n\u001b[1;32m---> 11\u001b[0m     \u001b[43mos\u001b[49m\u001b[38;5;241;43m.\u001b[39;49m\u001b[43mrename\u001b[49m\u001b[43m(\u001b[49m\u001b[43mos\u001b[49m\u001b[38;5;241;43m.\u001b[39;49m\u001b[43mpath\u001b[49m\u001b[38;5;241;43m.\u001b[39;49m\u001b[43mjoin\u001b[49m\u001b[43m(\u001b[49m\u001b[43mpath\u001b[49m\u001b[43m,\u001b[49m\u001b[43m \u001b[49m\u001b[43mfile\u001b[49m\u001b[43m)\u001b[49m\u001b[43m,\u001b[49m\u001b[43m \u001b[49m\u001b[43mos\u001b[49m\u001b[38;5;241;43m.\u001b[39;49m\u001b[43mpath\u001b[49m\u001b[38;5;241;43m.\u001b[39;49m\u001b[43mjoin\u001b[49m\u001b[43m(\u001b[49m\u001b[43mpath\u001b[49m\u001b[43m,\u001b[49m\u001b[43m \u001b[49m\u001b[38;5;124;43mf\u001b[39;49m\u001b[38;5;124;43m'\u001b[39;49m\u001b[38;5;132;43;01m{\u001b[39;49;00m\u001b[38;5;28;43mid\u001b[39;49m\u001b[38;5;132;43;01m}\u001b[39;49;00m\u001b[38;5;124;43m_\u001b[39;49m\u001b[38;5;132;43;01m{\u001b[39;49;00m\u001b[43memotion\u001b[49m\u001b[38;5;132;43;01m}\u001b[39;49;00m\u001b[38;5;124;43m.mp4\u001b[39;49m\u001b[38;5;124;43m'\u001b[39;49m\u001b[43m)\u001b[49m\u001b[43m)\u001b[49m\n",
      "\u001b[1;31mFileExistsError\u001b[0m: [WinError 183] Cannot create a file when that file already exists: 'C:\\\\Users\\\\meria\\\\Pictures\\\\Camera Roll\\\\mf_happy_1.mp4' -> 'C:\\\\Users\\\\meria\\\\Pictures\\\\Camera Roll\\\\mf_happy.mp4'"
     ]
    }
   ],
   "source": [
    "# Rename the video in camera roll based on the participant's name and emotion\n",
    "import os \n",
    "\n",
    "id = \"mf\"\n",
    "emotion = \"happy\"\n",
    "path = r\"C:\\Users\\meria\\Pictures\\Camera Roll\"\n",
    "\n",
    "video_files = [f for f in os.listdir(path) if f.endswith('.mp4')]\n",
    "\n",
    "for index, file in enumerate(video_files):\n",
    "    os.rename(os.path.join(path, file), os.path.join(path, f'{id}_{emotion}_{index}.mp4'))\n"
   ]
  },
  {
   "cell_type": "code",
   "execution_count": 7,
   "metadata": {
    "vscode": {
     "languageId": "bat"
    }
   },
   "outputs": [
    {
     "name": "stderr",
     "output_type": "stream",
     "text": [
      "Traceback (most recent call last):\n",
      "  File \"c:\\Users\\meria\\source\\repos\\emotion-watchers\\data_processing\\data_processing\\process_data.py\", line 72, in <module>\n",
      "    process_data(\n",
      "  File \"c:\\Users\\meria\\source\\repos\\emotion-watchers\\data_processing\\data_processing\\process_data.py\", line 21, in process_data\n",
      "    face.process_data(video_dir, output_path, binary_face, skip_get_frames, skip_crop_images, log)\n",
      "  File \"c:\\users\\meria\\source\\repos\\emotion-watchers\\data_processing\\data_processing\\face\\process_data.py\", line 220, in process_data\n",
      "    separate_images(image_dirs, output_path, binary)\n",
      "  File \"c:\\users\\meria\\source\\repos\\emotion-watchers\\data_processing\\data_processing\\face\\process_data.py\", line 98, in separate_images\n",
      "    matched_emotion = emotions[match[\"emotion\"]]\n",
      "KeyError: 'Pro'\n"
     ]
    }
   ],
   "source": [
    "!python ..\\data_processing\\data_processing\\process_data.py \"C:\\Users\\meria\\Pictures\\Camera Roll\" ..\\data C:\\Users\\meria\\Documents\\GazePoint\\result"
   ]
  }
 ],
 "metadata": {
  "kernelspec": {
   "display_name": "Python 3",
   "language": "python",
   "name": "python3"
  },
  "language_info": {
   "codemirror_mode": {
    "name": "ipython",
    "version": 3
   },
   "file_extension": ".py",
   "mimetype": "text/x-python",
   "name": "python",
   "nbconvert_exporter": "python",
   "pygments_lexer": "ipython3",
   "version": "3.10.0"
  }
 },
 "nbformat": 4,
 "nbformat_minor": 2
}
